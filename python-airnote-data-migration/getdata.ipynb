{
 "cells": [
  {
   "cell_type": "markdown",
   "metadata": {},
   "source": [
    "Load Requirements"
   ]
  },
  {
   "cell_type": "code",
   "execution_count": 1,
   "metadata": {},
   "outputs": [
    {
     "name": "stdout",
     "output_type": "stream",
     "text": [
      "Requirement already satisfied: atomicwrites==1.4.0 in c:\\users\\ccaswell\\appdata\\local\\anaconda3\\lib\\site-packages (from -r requirements.txt (line 1)) (1.4.0)\n",
      "Collecting attrs==21.2.0 (from -r requirements.txt (line 2))\n",
      "  Downloading attrs-21.2.0-py2.py3-none-any.whl.metadata (9.1 kB)\n",
      "Collecting certifi==2021.5.30 (from -r requirements.txt (line 3))\n",
      "  Downloading certifi-2021.5.30-py2.py3-none-any.whl.metadata (3.0 kB)\n",
      "Collecting charset-normalizer==2.0.4 (from -r requirements.txt (line 4))\n",
      "  Downloading charset_normalizer-2.0.4-py3-none-any.whl.metadata (11 kB)\n",
      "Collecting colorama==0.4.4 (from -r requirements.txt (line 5))\n",
      "  Downloading colorama-0.4.4-py2.py3-none-any.whl.metadata (14 kB)\n",
      "Collecting idna==3.2 (from -r requirements.txt (line 6))\n",
      "  Downloading idna-3.2-py3-none-any.whl.metadata (8.6 kB)\n",
      "Requirement already satisfied: iniconfig==1.1.1 in c:\\users\\ccaswell\\appdata\\local\\anaconda3\\lib\\site-packages (from -r requirements.txt (line 7)) (1.1.1)\n",
      "Collecting mock==4.0.3 (from -r requirements.txt (line 8))\n",
      "  Downloading mock-4.0.3-py3-none-any.whl.metadata (2.8 kB)\n",
      "Collecting packaging==21.0 (from -r requirements.txt (line 9))\n",
      "  Downloading packaging-21.0-py3-none-any.whl.metadata (13 kB)\n",
      "Collecting pluggy==0.13.1 (from -r requirements.txt (line 10))\n",
      "  Downloading pluggy-0.13.1-py2.py3-none-any.whl.metadata (15 kB)\n",
      "Collecting py==1.10.0 (from -r requirements.txt (line 11))\n",
      "  Downloading py-1.10.0-py2.py3-none-any.whl.metadata (2.7 kB)\n",
      "Collecting pyparsing==2.4.7 (from -r requirements.txt (line 12))\n",
      "  Downloading pyparsing-2.4.7-py2.py3-none-any.whl.metadata (3.6 kB)\n",
      "Collecting pytest==6.2.4 (from -r requirements.txt (line 13))\n",
      "  Downloading pytest-6.2.4-py3-none-any.whl.metadata (7.3 kB)\n",
      "Collecting requests==2.26.0 (from -r requirements.txt (line 14))\n",
      "  Downloading requests-2.26.0-py2.py3-none-any.whl.metadata (4.8 kB)\n",
      "Requirement already satisfied: toml==0.10.2 in c:\\users\\ccaswell\\appdata\\local\\anaconda3\\lib\\site-packages (from -r requirements.txt (line 15)) (0.10.2)\n",
      "Collecting urllib3==1.26.6 (from -r requirements.txt (line 16))\n",
      "  Downloading urllib3-1.26.6-py2.py3-none-any.whl.metadata (44 kB)\n",
      "Downloading attrs-21.2.0-py2.py3-none-any.whl (53 kB)\n",
      "Downloading certifi-2021.5.30-py2.py3-none-any.whl (145 kB)\n",
      "Downloading charset_normalizer-2.0.4-py3-none-any.whl (36 kB)\n",
      "Downloading colorama-0.4.4-py2.py3-none-any.whl (16 kB)\n",
      "Downloading idna-3.2-py3-none-any.whl (59 kB)\n",
      "Downloading mock-4.0.3-py3-none-any.whl (28 kB)\n",
      "Downloading packaging-21.0-py3-none-any.whl (40 kB)\n",
      "Downloading pluggy-0.13.1-py2.py3-none-any.whl (18 kB)\n",
      "Downloading py-1.10.0-py2.py3-none-any.whl (97 kB)\n",
      "Downloading pyparsing-2.4.7-py2.py3-none-any.whl (67 kB)\n",
      "Downloading pytest-6.2.4-py3-none-any.whl (280 kB)\n",
      "Downloading requests-2.26.0-py2.py3-none-any.whl (62 kB)\n",
      "Downloading urllib3-1.26.6-py2.py3-none-any.whl (138 kB)\n",
      "Installing collected packages: certifi, urllib3, pyparsing, py, pluggy, mock, idna, colorama, charset-normalizer, attrs, requests, packaging, pytest\n",
      "  Attempting uninstall: certifi\n",
      "    Found existing installation: certifi 2024.12.14\n",
      "    Uninstalling certifi-2024.12.14:\n",
      "      Successfully uninstalled certifi-2024.12.14\n",
      "  Attempting uninstall: urllib3\n",
      "    Found existing installation: urllib3 2.2.3\n",
      "    Uninstalling urllib3-2.2.3:\n",
      "      Successfully uninstalled urllib3-2.2.3\n",
      "  Attempting uninstall: pyparsing\n",
      "    Found existing installation: pyparsing 3.1.2\n",
      "    Uninstalling pyparsing-3.1.2:\n",
      "      Successfully uninstalled pyparsing-3.1.2\n",
      "  Attempting uninstall: pluggy\n",
      "    Found existing installation: pluggy 1.0.0\n",
      "    Uninstalling pluggy-1.0.0:\n",
      "      Successfully uninstalled pluggy-1.0.0\n",
      "  Attempting uninstall: idna\n",
      "    Found existing installation: idna 3.7\n",
      "    Uninstalling idna-3.7:\n",
      "      Successfully uninstalled idna-3.7\n",
      "  Attempting uninstall: colorama\n",
      "    Found existing installation: colorama 0.4.6\n",
      "    Uninstalling colorama-0.4.6:\n",
      "      Successfully uninstalled colorama-0.4.6\n",
      "  Attempting uninstall: charset-normalizer\n",
      "    Found existing installation: charset-normalizer 3.3.2\n",
      "    Uninstalling charset-normalizer-3.3.2:\n",
      "      Successfully uninstalled charset-normalizer-3.3.2\n",
      "  Attempting uninstall: attrs\n",
      "    Found existing installation: attrs 23.1.0\n",
      "    Uninstalling attrs-23.1.0:\n",
      "      Successfully uninstalled attrs-23.1.0\n",
      "  Attempting uninstall: requests\n",
      "    Found existing installation: requests 2.32.3\n",
      "    Uninstalling requests-2.32.3:\n",
      "      Successfully uninstalled requests-2.32.3\n",
      "  Attempting uninstall: packaging\n",
      "    Found existing installation: packaging 24.1\n",
      "    Uninstalling packaging-24.1:\n",
      "      Successfully uninstalled packaging-24.1\n",
      "  Attempting uninstall: pytest\n",
      "    Found existing installation: pytest 7.4.4\n",
      "    Uninstalling pytest-7.4.4:\n",
      "      Successfully uninstalled pytest-7.4.4\n",
      "Successfully installed attrs-21.2.0 certifi-2021.5.30 charset-normalizer-2.0.4 colorama-0.4.4 idna-3.2 mock-4.0.3 packaging-21.0 pluggy-0.13.1 py-1.10.0 pyparsing-2.4.7 pytest-6.2.4 requests-2.26.0 urllib3-1.26.6\n",
      "Note: you may need to restart the kernel to use updated packages.\n"
     ]
    },
    {
     "name": "stderr",
     "output_type": "stream",
     "text": [
      "ERROR: pip's dependency resolver does not currently take into account all the packages that are installed. This behaviour is the source of the following dependency conflicts.\n",
      "black 24.8.0 requires packaging>=22.0, but you have packaging 21.0 which is incompatible.\n",
      "conda 24.11.1 requires packaging>=23.0, but you have packaging 21.0 which is incompatible.\n",
      "conda 24.11.1 requires pluggy>=1.0.0, but you have pluggy 0.13.1 which is incompatible.\n",
      "conda 24.11.1 requires requests<3,>=2.28.0, but you have requests 2.26.0 which is incompatible.\n",
      "conda-repo-cli 1.0.114 requires requests>=2.31.0, but you have requests 2.26.0 which is incompatible.\n",
      "conda-repo-cli 1.0.114 requires urllib3>=2.2.2, but you have urllib3 1.26.6 which is incompatible.\n",
      "jsonschema 4.23.0 requires attrs>=22.2.0, but you have attrs 21.2.0 which is incompatible.\n",
      "jupyterlab-server 2.27.3 requires packaging>=21.3, but you have packaging 21.0 which is incompatible.\n",
      "jupyterlab-server 2.27.3 requires requests>=2.31, but you have requests 2.26.0 which is incompatible.\n",
      "jupyter-server 2.14.1 requires packaging>=22.0, but you have packaging 21.0 which is incompatible.\n",
      "pylint 2.16.2 requires colorama>=0.4.5; sys_platform == \"win32\", but you have colorama 0.4.4 which is incompatible.\n",
      "python-lsp-server 1.10.0 requires pluggy>=1.0.0, but you have pluggy 0.13.1 which is incompatible.\n",
      "pytoolconfig 1.2.6 requires packaging>=22.0, but you have packaging 21.0 which is incompatible.\n",
      "referencing 0.30.2 requires attrs>=22.2.0, but you have attrs 21.2.0 which is incompatible.\n",
      "sphinx 7.3.7 requires colorama>=0.4.5; sys_platform == \"win32\", but you have colorama 0.4.4 which is incompatible.\n",
      "statsmodels 0.14.2 requires packaging>=21.3, but you have packaging 21.0 which is incompatible.\n",
      "streamlit 1.37.1 requires requests<3,>=2.27, but you have requests 2.26.0 which is incompatible.\n",
      "twisted 23.10.0 requires attrs>=21.3.0, but you have attrs 21.2.0 which is incompatible.\n",
      "xarray 2023.6.0 requires packaging>=21.3, but you have packaging 21.0 which is incompatible.\n"
     ]
    }
   ],
   "source": [
    "pip install -r requirements.txt\n"
   ]
  },
  {
   "cell_type": "markdown",
   "metadata": {},
   "source": [
    "Get data for specific device ids"
   ]
  },
  {
   "cell_type": "code",
   "execution_count": 6,
   "metadata": {},
   "outputs": [
    {
     "name": "stdout",
     "output_type": "stream",
     "text": [
      "Adding device: dev:863740067277423\n"
     ]
    }
   ],
   "source": [
    " !python main.py -a dev:863740067277423"
   ]
  },
  {
   "cell_type": "markdown",
   "metadata": {},
   "source": [
    "Store Pin"
   ]
  },
  {
   "cell_type": "code",
   "execution_count": 7,
   "metadata": {},
   "outputs": [],
   "source": [
    "NOTEHUB_PIN=608638"
   ]
  },
  {
   "cell_type": "markdown",
   "metadata": {},
   "source": [
    "Run Script for Device Selected"
   ]
  },
  {
   "cell_type": "code",
   "execution_count": 8,
   "metadata": {},
   "outputs": [
    {
     "name": "stdout",
     "output_type": "stream",
     "text": [
      "Migrating device data from Notehub to local storage\n"
     ]
    }
   ],
   "source": [
    "!python main.py\n"
   ]
  },
  {
   "cell_type": "code",
   "execution_count": 11,
   "metadata": {},
   "outputs": [
    {
     "name": "stdout",
     "output_type": "stream",
     "text": [
      "exporting data for dev:863740067277423 to testnotehub.csv\n"
     ]
    }
   ],
   "source": [
    "!python main.py -x testnotehub.csv -d dev:863740067277423\n"
   ]
  }
 ],
 "metadata": {
  "kernelspec": {
   "display_name": "base",
   "language": "python",
   "name": "python3"
  },
  "language_info": {
   "codemirror_mode": {
    "name": "ipython",
    "version": 3
   },
   "file_extension": ".py",
   "mimetype": "text/x-python",
   "name": "python",
   "nbconvert_exporter": "python",
   "pygments_lexer": "ipython3",
   "version": "3.12.7"
  }
 },
 "nbformat": 4,
 "nbformat_minor": 2
}
