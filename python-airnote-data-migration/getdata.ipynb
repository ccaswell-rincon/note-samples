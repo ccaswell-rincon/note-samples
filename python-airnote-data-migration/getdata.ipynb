{
 "cells": [
  {
   "cell_type": "markdown",
   "metadata": {},
   "source": [
    "Load Requirements"
   ]
  },
  {
   "cell_type": "code",
   "execution_count": 9,
   "metadata": {},
   "outputs": [
    {
     "name": "stdout",
     "output_type": "stream",
     "text": [
      "Requirement already satisfied: atomicwrites==1.4.0 in c:\\users\\ccaswell\\appdata\\local\\anaconda3\\lib\\site-packages (from -r requirements.txt (line 1)) (1.4.0)Note: you may need to restart the kernel to use updated packages.\n",
      "\n",
      "Requirement already satisfied: attrs==21.2.0 in c:\\users\\ccaswell\\appdata\\local\\anaconda3\\lib\\site-packages (from -r requirements.txt (line 2)) (21.2.0)\n",
      "Requirement already satisfied: certifi==2021.5.30 in c:\\users\\ccaswell\\appdata\\local\\anaconda3\\lib\\site-packages (from -r requirements.txt (line 3)) (2021.5.30)\n",
      "Requirement already satisfied: charset-normalizer==2.0.4 in c:\\users\\ccaswell\\appdata\\local\\anaconda3\\lib\\site-packages (from -r requirements.txt (line 4)) (2.0.4)\n",
      "Requirement already satisfied: colorama==0.4.4 in c:\\users\\ccaswell\\appdata\\local\\anaconda3\\lib\\site-packages (from -r requirements.txt (line 5)) (0.4.4)\n",
      "Requirement already satisfied: idna==3.2 in c:\\users\\ccaswell\\appdata\\local\\anaconda3\\lib\\site-packages (from -r requirements.txt (line 6)) (3.2)\n",
      "Requirement already satisfied: iniconfig==1.1.1 in c:\\users\\ccaswell\\appdata\\local\\anaconda3\\lib\\site-packages (from -r requirements.txt (line 7)) (1.1.1)\n",
      "Requirement already satisfied: mock==4.0.3 in c:\\users\\ccaswell\\appdata\\local\\anaconda3\\lib\\site-packages (from -r requirements.txt (line 8)) (4.0.3)\n",
      "Requirement already satisfied: packaging==21.0 in c:\\users\\ccaswell\\appdata\\local\\anaconda3\\lib\\site-packages (from -r requirements.txt (line 9)) (21.0)\n",
      "Requirement already satisfied: pluggy==0.13.1 in c:\\users\\ccaswell\\appdata\\local\\anaconda3\\lib\\site-packages (from -r requirements.txt (line 10)) (0.13.1)\n",
      "Requirement already satisfied: py==1.10.0 in c:\\users\\ccaswell\\appdata\\local\\anaconda3\\lib\\site-packages (from -r requirements.txt (line 11)) (1.10.0)\n",
      "Requirement already satisfied: pyparsing==2.4.7 in c:\\users\\ccaswell\\appdata\\local\\anaconda3\\lib\\site-packages (from -r requirements.txt (line 12)) (2.4.7)\n",
      "Requirement already satisfied: pytest==6.2.4 in c:\\users\\ccaswell\\appdata\\local\\anaconda3\\lib\\site-packages (from -r requirements.txt (line 13)) (6.2.4)\n",
      "Requirement already satisfied: requests==2.26.0 in c:\\users\\ccaswell\\appdata\\local\\anaconda3\\lib\\site-packages (from -r requirements.txt (line 14)) (2.26.0)\n",
      "Requirement already satisfied: toml==0.10.2 in c:\\users\\ccaswell\\appdata\\local\\anaconda3\\lib\\site-packages (from -r requirements.txt (line 15)) (0.10.2)\n",
      "Requirement already satisfied: urllib3==1.26.6 in c:\\users\\ccaswell\\appdata\\local\\anaconda3\\lib\\site-packages (from -r requirements.txt (line 16)) (1.26.6)\n"
     ]
    }
   ],
   "source": [
    "pip install -r requirements.txt\n"
   ]
  },
  {
   "cell_type": "code",
   "execution_count": 12,
   "metadata": {},
   "outputs": [
    {
     "ename": "SyntaxError",
     "evalue": "invalid syntax (2565883263.py, line 1)",
     "output_type": "error",
     "traceback": [
      "\u001b[1;36m  Cell \u001b[1;32mIn[12], line 1\u001b[1;36m\u001b[0m\n\u001b[1;33m    export AZURE_SQL_CONNECTIONSTRING='Driver={ODBC Driver 18 for SQL Server};Server=tcp:<notehubsensordata>.database.windows.net,1433;Database=<Notehub_Sensor_Data>;Encrypt=yes;TrustServerCertificate=no;Connection Timeout=30'\u001b[0m\n\u001b[1;37m           ^\u001b[0m\n\u001b[1;31mSyntaxError\u001b[0m\u001b[1;31m:\u001b[0m invalid syntax\n"
     ]
    }
   ],
   "source": [
    "#Run in bash \n",
    "# export AZURE_SQL_CONNECTIONSTRING='Driver={ODBC Driver 18 for SQL Server};Server=tcp:<notehubsensordata>.database.windows.net,1433;Database=<Notehub_Sensor_Data>;Encrypt=yes;TrustServerCertificate=no;Connection Timeout=30'\n"
   ]
  },
  {
   "cell_type": "code",
   "execution_count": 14,
   "metadata": {},
   "outputs": [
    {
     "ename": "ModuleNotFoundError",
     "evalue": "No module named 'azure'",
     "output_type": "error",
     "traceback": [
      "\u001b[1;31m---------------------------------------------------------------------------\u001b[0m",
      "\u001b[1;31mModuleNotFoundError\u001b[0m                       Traceback (most recent call last)",
      "Cell \u001b[1;32mIn[14], line 3\u001b[0m\n\u001b[0;32m      1\u001b[0m \u001b[38;5;28;01mimport\u001b[39;00m \u001b[38;5;21;01mos\u001b[39;00m\n\u001b[0;32m      2\u001b[0m \u001b[38;5;28;01mimport\u001b[39;00m \u001b[38;5;21;01mpyodbc\u001b[39;00m\u001b[38;5;241m,\u001b[39m \u001b[38;5;21;01mstruct\u001b[39;00m\n\u001b[1;32m----> 3\u001b[0m \u001b[38;5;28;01mfrom\u001b[39;00m \u001b[38;5;21;01mazure\u001b[39;00m \u001b[38;5;28;01mimport\u001b[39;00m identity\n",
      "\u001b[1;31mModuleNotFoundError\u001b[0m: No module named 'azure'"
     ]
    }
   ],
   "source": [
    "import os\n",
    "import pyodbc, struct\n",
    "from azure import identity"
   ]
  },
  {
   "cell_type": "markdown",
   "metadata": {},
   "source": [
    "Get data for specific device ids"
   ]
  },
  {
   "cell_type": "code",
   "execution_count": 3,
   "metadata": {},
   "outputs": [
    {
     "name": "stdout",
     "output_type": "stream",
     "text": [
      "Adding device: dev:863740067277423\n"
     ]
    }
   ],
   "source": [
    " !python main.py -a dev:863740067277423"
   ]
  },
  {
   "cell_type": "markdown",
   "metadata": {},
   "source": [
    "Store Pin"
   ]
  },
  {
   "cell_type": "code",
   "execution_count": 4,
   "metadata": {},
   "outputs": [],
   "source": [
    "NOTEHUB_PIN=608638"
   ]
  },
  {
   "cell_type": "markdown",
   "metadata": {},
   "source": [
    "Run Script for Device Selected"
   ]
  },
  {
   "cell_type": "code",
   "execution_count": 5,
   "metadata": {},
   "outputs": [
    {
     "name": "stdout",
     "output_type": "stream",
     "text": [
      "Migrating device data from Notehub to local storage\n"
     ]
    }
   ],
   "source": [
    "!python main.py\n"
   ]
  },
  {
   "cell_type": "code",
   "execution_count": 6,
   "metadata": {},
   "outputs": [
    {
     "name": "stdout",
     "output_type": "stream",
     "text": [
      "exporting data for dev:863740067277423 to testnotehub.csv\n"
     ]
    }
   ],
   "source": [
    "!python main.py -x testnotehub.csv -d dev:863740067277423\n"
   ]
  }
 ],
 "metadata": {
  "kernelspec": {
   "display_name": "base",
   "language": "python",
   "name": "python3"
  },
  "language_info": {
   "codemirror_mode": {
    "name": "ipython",
    "version": 3
   },
   "file_extension": ".py",
   "mimetype": "text/x-python",
   "name": "python",
   "nbconvert_exporter": "python",
   "pygments_lexer": "ipython3",
   "version": "3.12.7"
  }
 },
 "nbformat": 4,
 "nbformat_minor": 2
}
